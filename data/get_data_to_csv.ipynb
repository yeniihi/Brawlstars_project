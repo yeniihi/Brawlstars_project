{
 "cells": [
  {
   "cell_type": "code",
   "execution_count": 1,
   "metadata": {},
   "outputs": [],
   "source": [
    "import brawlstats\n",
    "from pathlib import Path\n",
    "import pandas as pd\n",
    "import datetime\n",
    "from get_battlelogs import parse_single_user\n",
    "\n",
    "token = open(Path('G:/내 드라이브/GitHub/Brawl Stars Stats/brawlstats_token.txt')).read().strip()\n",
    "now = datetime.datetime.now()\n",
    "time = now.strftime('%Y%m%d_%H%M')\n",
    "\n",
    "client = brawlstats.Client(token)\n",
    "rankers = client.get_rankings(ranking='players')\n",
    "rankers_tag_list = [rankers[i]['tag'].split(\"#\")[1] for i in range(len(rankers))]\n",
    "\n",
    "columns = pd.DataFrame(parse_single_user(rankers_tag_list[0])).columns\n",
    "df = pd.DataFrame(columns=columns)\n",
    "\n",
    "for ranker in rankers_tag_list:\n",
    "    try:\n",
    "        df_temp = pd.DataFrame(parse_single_user(ranker))\n",
    "        df = pd.concat([df, df_temp], axis=0, ignore_index=True)\n",
    "    except:\n",
    "        pass\n",
    "\n",
    "df_origin = df.copy()\n",
    "df[\"player_name\"] = df[\"player_name\"].str.replace(pat=r'[^1-9a-zA-Z]', repl=r'', regex=True)\n",
    "\n",
    "df.to_csv(f'C:/Users/yenny/Desktop/{time}_rankers.csv', encoding='utf-8')\n",
    "\n",
    "df.info()"
   ]
  }
 ],
 "metadata": {
  "kernelspec": {
   "display_name": "base",
   "language": "python",
   "name": "python3"
  },
  "language_info": {
   "codemirror_mode": {
    "name": "ipython",
    "version": 3
   },
   "file_extension": ".py",
   "mimetype": "text/x-python",
   "name": "python",
   "nbconvert_exporter": "python",
   "pygments_lexer": "ipython3",
   "version": "3.9.13"
  },
  "orig_nbformat": 4
 },
 "nbformat": 4,
 "nbformat_minor": 2
}
